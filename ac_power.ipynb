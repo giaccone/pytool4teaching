{
 "cells": [
  {
   "cell_type": "markdown",
   "metadata": {},
   "source": [
    "**This jupyter notebook makes it possible to show the power in alternating current systems. It is possible to show the waveforms for different nature of loads.**\n",
    "\n",
    "\n",
    "**Author**: Luca Giaccone (luca.giaccone@polito.it)<br>\n",
    "**Date**: 5/11/2021 (initial release on GitHub)<br>\n",
    "**GitHub link**: [https://github.com/giaccone/pytool4teaching](https://github.com/giaccone/pytool4teaching)"
   ]
  },
  {
   "cell_type": "code",
   "execution_count": 1,
   "metadata": {},
   "outputs": [],
   "source": [
    "latex_font = False\n",
    "if latex_font:\n",
    "    from matplotlib import rc\n",
    "    rc('font',**{'family':'serif'})\n",
    "    rc('text', usetex=True)\n",
    "import numpy as np\n",
    "import matplotlib.pylab as plt\n",
    "plt.ion()\n",
    "from ipywidgets import interact, interactive, fixed, interact_manual, FloatSlider\n",
    "import ipywidgets as widgets\n",
    "from matplotlib.patches import Rectangle"
   ]
  },
  {
   "cell_type": "code",
   "execution_count": 2,
   "metadata": {},
   "outputs": [],
   "source": [
    "def fun(phi_v):\n",
    "    f = 50 # frequency\n",
    "    veff = 10\n",
    "    phi_v = phi_v * np.pi / 180\n",
    "    ieff = 10\n",
    "    phi_i = 0\n",
    "\n",
    "    # time-voltage-current\n",
    "    t = np.linspace(0, 2/f, 200)\n",
    "    v = np.sqrt(2) * veff * np.sin(2 * np.pi * f * t + phi_v)\n",
    "    i = np.sqrt(2) * ieff * np.sin(2 * np.pi * f * t + phi_i)\n",
    "    # power and average\n",
    "    p = v * i\n",
    "    pave = np.sum(p) / len(p)\n",
    "\n",
    "    # Initialize plots\n",
    "    hf1 = plt.figure(figsize=(15,9))\n",
    "    ax1 = plt.subplot2grid((2,3),(0,0),rowspan=1,colspan=1)\n",
    "    ax2 = plt.subplot2grid((2,3),(1,0),rowspan=1,colspan=1)\n",
    "    ax3 = plt.subplot2grid((2,3),(0,1),colspan=2)\n",
    "    ax4 = plt.subplot2grid((2,3),(1,1),colspan=2)\n",
    "\n",
    "    # phasors diagram\n",
    "    side = 10 * np.sqrt(2)*1.1\n",
    "    vert = [-side, side]\n",
    "    for x in vert:\n",
    "        for y in vert:\n",
    "            ax1.plot(x,y, 'w.')\n",
    "    \n",
    "    \n",
    "    HL = np.sqrt(2)* veff * 15/100\n",
    "    HW = 0.5*HL\n",
    "    RE = np.sqrt(2)* veff * np.cos(phi_v)\n",
    "    IM = np.sqrt(2)* veff * np.sin(phi_v)\n",
    "    ax1.arrow(0, 0, RE,IM, linewidth=2,head_width=HW, head_length=HL, fc='r', ec='r')\n",
    "    if np.abs(RE) < 1e-8:\n",
    "        ax1.text(2,IM,'$\\overline{V}$', fontsize=18, color='r')\n",
    "    elif np.abs(RE) < 3:\n",
    "        ax1.text(4,IM,'$\\overline{V}$', fontsize=18, color='r')\n",
    "    else:\n",
    "        ax1.text(RE*1.15,IM*1.15,'$\\overline{V}$', fontsize=18, color='r')\n",
    "        \n",
    "    HL = np.sqrt(2)* ieff * 15/100\n",
    "    HW = 0.5*HL\n",
    "    ax1.arrow(0, 0, np.sqrt(2)* ieff,0, linewidth=2,head_width=HW, head_length=HL, fc='b', ec='b')\n",
    "    if IM >= 0:\n",
    "        ax1.text(np.sqrt(2)* ieff*0.5,-3,'$\\overline{I}$', fontsize=18, color='b')\n",
    "    else:\n",
    "        ax1.text(np.sqrt(2)* ieff*0.5,1,'$\\overline{I}$', fontsize=18, color='b')\n",
    "\n",
    "    ax1.set_xlim(-15,15)\n",
    "    ax1.set_ylim(-15,15)\n",
    "    ax1.tick_params(labelsize=18)\n",
    "    ax1.axis('square')\n",
    "    ax1.grid()\n",
    "    plt.tight_layout()\n",
    "    \n",
    "    ax2.set_xlim(-1,1)\n",
    "    ax2.set_ylim(-1,1)\n",
    "    ax2.add_patch(Rectangle((-0.1,-0.5),width=0.2,height=1,fill=False,linewidth=3))\n",
    "    ax2.plot([0,0],[-0.8,-0.5],'k',linewidth=3)\n",
    "    ax2.plot([0,0],[0.8,0.5],'k',linewidth=3)\n",
    "    ax2.arrow(0.3, -0.6, 0,1.2, linewidth=3,head_width=0.1, head_length=0.15*0.5, fc='r', ec='r')\n",
    "    ax2.arrow(0, 0.95, 0,-0.2, linewidth=3,head_width=0.1, head_length=0.15*0.5, fc='b', ec='b')\n",
    "    ax2.text(0.35,0,\"$\\overline{V}$\",fontsize=25,color='r')\n",
    "    ax2.text(-0.15,0.8,\"$\\overline{I}$\",fontsize=25,color='b')\n",
    "    ax2.text(-0.3,0,\"$\\overline{Z}$\",fontsize=25,color='k')\n",
    "    ax2.axis('off')\n",
    "    \n",
    "\n",
    "    ax3.plot(t*1e3,v,'r' ,label='v(t)', linewidth=3)\n",
    "    ax3.plot(t*1e3,i, 'b--', label='i(t)', linewidth=3)\n",
    "    ax3.tick_params(labelsize=18)\n",
    "    ax3.grid()\n",
    "    ax3.set_xlim(0,40)\n",
    "    ax3.legend(fontsize=20)\n",
    "    plt.tight_layout()\n",
    "\n",
    "    ax4.plot(t*1e3,p,'c', label='p(t)', linewidth=3)\n",
    "    ax4.plot(t*1e3,np.ones_like(t)*pave,'k--', label='average', linewidth=3)\n",
    "    ax4.set_xlabel('time (ms)',fontsize=25)\n",
    "    ax4.tick_params(labelsize=18)\n",
    "    ax4.grid()\n",
    "    ax4.set_xlim(0,40)\n",
    "    ax4.set_ylim(-200,200)\n",
    "    ax4.legend(fontsize=20)\n",
    "    plt.tight_layout()"
   ]
  },
  {
   "cell_type": "markdown",
   "metadata": {},
   "source": [
    "# Power in alternating current circuit"
   ]
  },
  {
   "cell_type": "code",
   "execution_count": 3,
   "metadata": {},
   "outputs": [
    {
     "data": {
      "application/vnd.jupyter.widget-view+json": {
       "model_id": "228b56e9e31c4d22b98e45bf6885ff86",
       "version_major": 2,
       "version_minor": 0
      },
      "text/plain": [
       "interactive(children=(FloatSlider(value=0.0, continuous_update=False, description='phi_v', max=90.0, min=-90.0…"
      ]
     },
     "metadata": {},
     "output_type": "display_data"
    }
   ],
   "source": [
    "interact(fun, phi_v=FloatSlider(min=-90, max=90, step=10, continuous_update=False));"
   ]
  },
  {
   "cell_type": "code",
   "execution_count": null,
   "metadata": {},
   "outputs": [],
   "source": []
  }
 ],
 "metadata": {
  "kernelspec": {
   "display_name": "Python 3 (ipykernel)",
   "language": "python",
   "name": "python3"
  },
  "language_info": {
   "codemirror_mode": {
    "name": "ipython",
    "version": 3
   },
   "file_extension": ".py",
   "mimetype": "text/x-python",
   "name": "python",
   "nbconvert_exporter": "python",
   "pygments_lexer": "ipython3",
   "version": "3.9.13"
  },
  "vscode": {
   "interpreter": {
    "hash": "79e948dbcba4acb00d5d4781171c3da61e1af0245fe02b1e61af9d80637be0a6"
   }
  }
 },
 "nbformat": 4,
 "nbformat_minor": 2
}
