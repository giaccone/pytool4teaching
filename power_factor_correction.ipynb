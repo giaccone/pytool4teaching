{
 "cells": [
  {
   "cell_type": "markdown",
   "metadata": {},
   "source": [
    "**This jupyter notebook makes it possible to study the phasor diagram related to the power factor correction. It is possible to show the effect of e wrong design by increasing the reactive power associated to the capacitor up to unreasonable values (i.e. the current leads the voltage).**\n",
    "\n",
    "\n",
    "**Author**: Luca Giaccone (luca.giaccone@polito.it)<br>\n",
    "**Date**: 5/11/2021 (initial release on GitHub)<br>\n",
    "**GitHub link**: [https://github.com/giaccone/pytool4teaching](https://github.com/giaccone/pytool4teaching)"
   ]
  },
  {
   "cell_type": "code",
   "execution_count": 1,
   "metadata": {},
   "outputs": [],
   "source": [
    "latex_font = True\n",
    "if latex_font:\n",
    "    from matplotlib import rc\n",
    "    rc('font',**{'family':'serif'})\n",
    "    rc('text', usetex=True)\n",
    "import numpy as np\n",
    "import matplotlib.pylab as plt\n",
    "plt.ion()\n",
    "from ipywidgets import interact, FloatSlider"
   ]
  },
  {
   "cell_type": "code",
   "execution_count": 2,
   "metadata": {},
   "outputs": [],
   "source": [
    "def fun(Qc):\n",
    "    # load parameters\n",
    "    P = 10e3\n",
    "    Q = 20e3\n",
    "    V = 230\n",
    "    # line parameters (order of magnitude not real)\n",
    "    rl = 0.5\n",
    "    xl = 1\n",
    "    \n",
    "    # compute currents\n",
    "    I = np.sqrt(P**2 + Q**2) / V\n",
    "    phi = np.arctan(Q / P)\n",
    "    Ic = -Qc / V\n",
    "    phi_c = np.pi/2\n",
    "    Ip = np.sqrt(P**2 + (Q + Qc)**2) / V\n",
    "    phi_p = np.arctan((Q + Qc) / P)\n",
    "    \n",
    "    # create phasors\n",
    "    I = complex(I * np.cos(phi), -I * np.sin(phi))\n",
    "    Ic = complex(0, Ic)\n",
    "    Ip = complex(Ip * np.cos(phi_p), -Ip * np.sin(phi_p))\n",
    "    V = complex(V, 0)\n",
    "    Vr = Ip * complex(rl, 0)\n",
    "    Vx = Ip * complex(0, xl)\n",
    "    E = V + Vr + Vx\n",
    "    \n",
    "    # projection of E on the real axis\n",
    "    phi_e = np.angle(E)\n",
    "    alpha = np.linspace(0, phi_e, 500)\n",
    "    rx = np.abs(E) * np.cos(alpha)\n",
    "    ry = np.abs(E) * np.sin(alpha)\n",
    "\n",
    "    # plot\n",
    "    hf1 = plt.figure(figsize=(3,3)) \n",
    "    ax = plt.gca()\n",
    "    \n",
    "    # set dimension of the arrow\n",
    "    HL = np.abs(I) * 15/100\n",
    "    HW = 0.5*HL\n",
    "\n",
    "    # voltages\n",
    "    ax.arrow(0, 0, V.real, V.imag, linewidth=2,head_width=HW, head_length=HL, fc='C0', ec='C0', length_includes_head=True)\n",
    "    ax.text(V.real-HL, V.imag-HL*1.5, \"$\\overline{V}$\", color='C0', fontsize=20)\n",
    "    \n",
    "    ax.arrow(V.real, V.imag, Vr.real, Vr.imag, linewidth=2,head_width=HW, head_length=HL, fc='C1', ec='C1', length_includes_head=True)\n",
    "    ax.text(V.real + Vr.real + Vr.real/(np.abs(Vr))*10 , V.imag + Vr.imag + Vr.imag/(np.abs(Vr))*10, \"$R \\overline{I}$\", color='C1', fontsize=20)\n",
    "    \n",
    "    ax.arrow(V.real + Vr.real, V.imag + Vr.imag, Vx.real , Vx.imag, linewidth=2,head_width=HW, head_length=HL, fc='C2', ec='C2', length_includes_head=True)\n",
    "    ax.text(V.real + Vr.real + Vx.real + Vx.real/np.abs(Vx)*10, V.imag + Vr.imag + Vx.imag + Vx.imag/np.abs(Vx)*10, \"$j X \\overline{I}$\", color='C2', fontsize=20)\n",
    "    \n",
    "    ax.arrow(0, 0, E.real, E.imag, linewidth=2,head_width=HW, head_length=HL, fc='C4', ec='C4', length_includes_head=True)\n",
    "    ax.text(E.real/2-HL, E.imag/2+HL/2, \"$\\overline{E}$\", color='C4', fontsize=20)\n",
    "\n",
    "\n",
    "    # current\n",
    "    ax.arrow(0, 0, I.real, I.imag, linewidth=2,head_width=HW, head_length=HL, fc='r', ec='r', length_includes_head=True)\n",
    "    ax.text(I.real/2 - 10, I.imag/2 - 15, \"$\\overline{I}$\", color='r', fontsize=20)\n",
    "    \n",
    "    ax.arrow(I.real, I.imag, Ic.real, Ic.imag, linewidth=2,head_width=HW, head_length=HL, fc='b', ec='b', length_includes_head=True)\n",
    "    ax.text(I.real + Ic.real + 10, I.imag + Ic.imag/2, \"$\\overline{I}c$\", color='b', fontsize=20)\n",
    "    \n",
    "    ax.arrow(0, 0, Ip.real, Ip.imag, linewidth=2,head_width=HW, head_length=HL, fc='c', ec='c', length_includes_head=True)\n",
    "    ax.text(Ip.real + Ip.real/np.abs(Ip)*5, Ip.imag  + Ip.imag/np.abs(Ip)*5, \"$\\overline{I}'$\", color='c', fontsize=20)\n",
    "    \n",
    "    # set axis\n",
    "    ax.axis('square')\n",
    "    plt.box(on=None)\n",
    "    plt.xticks([0],fontsize=16)\n",
    "    plt.yticks([0],fontsize=16)\n",
    "    \n",
    "    # plot projection of E on real axis\n",
    "    plt.plot(rx, ry, 'k--')\n",
    "    plt.grid()"
   ]
  },
  {
   "cell_type": "markdown",
   "metadata": {},
   "source": [
    "# Power factor correction"
   ]
  },
  {
   "cell_type": "code",
   "execution_count": 3,
   "metadata": {},
   "outputs": [
    {
     "data": {
      "application/vnd.jupyter.widget-view+json": {
       "model_id": "eaa9a3e716714036a5241807430d3127",
       "version_major": 2,
       "version_minor": 0
      },
      "text/plain": [
       "interactive(children=(FloatSlider(value=-10000.0, description='Qc', max=-10000.0, min=-50000.0, step=1000.0), …"
      ]
     },
     "metadata": {},
     "output_type": "display_data"
    }
   ],
   "source": [
    "interact(fun, Qc=FloatSlider(min=-50e3, max=-10e3, step=1e3, continuous_update=True));"
   ]
  },
  {
   "cell_type": "code",
   "execution_count": null,
   "metadata": {},
   "outputs": [],
   "source": []
  },
  {
   "cell_type": "code",
   "execution_count": null,
   "metadata": {},
   "outputs": [],
   "source": []
  }
 ],
 "metadata": {
  "kernelspec": {
   "display_name": "Python 3 (ipykernel)",
   "language": "python",
   "name": "python3"
  },
  "language_info": {
   "codemirror_mode": {
    "name": "ipython",
    "version": 3
   },
   "file_extension": ".py",
   "mimetype": "text/x-python",
   "name": "python",
   "nbconvert_exporter": "python",
   "pygments_lexer": "ipython3",
   "version": "3.9.13"
  },
  "vscode": {
   "interpreter": {
    "hash": "e7370f93d1d0cde622a1f8e1c04877d8463912d04d973331ad4851f04de6915a"
   }
  }
 },
 "nbformat": 4,
 "nbformat_minor": 4
}
